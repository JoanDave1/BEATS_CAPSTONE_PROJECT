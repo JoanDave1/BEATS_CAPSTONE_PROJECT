{
  "nbformat": 4,
  "nbformat_minor": 0,
  "metadata": {
    "colab": {
      "provenance": []
    },
    "kernelspec": {
      "name": "python3",
      "display_name": "Python 3"
    },
    "language_info": {
      "name": "python"
    }
  },
  "cells": [
    {
      "cell_type": "markdown",
      "source": [
        "# Capstone Project: Consumer Insights for Beats by Dre"
      ],
      "metadata": {
        "id": "IydAmVbUe5No"
      }
    },
    {
      "cell_type": "markdown",
      "source": [
        "##  **Title Page**\n",
        "**Project Title:** Consumer Insights Data Analytics Externship of Beats by Dre  \n",
        "**Student Name:** Joan David  \n",
        "**Date:** October 7, 2024"
      ],
      "metadata": {
        "id": "9NNnXrCxfZm5"
      }
    },
    {
      "cell_type": "markdown",
      "source": [
        "##  **Table of Contents**\n",
        "1. Introduction\n",
        "2. Data Description\n",
        "3. Exploratory Data Analysis (EDA)\n",
        "4. Sentiment Analysis\n",
        "5. AI-Generated Insights\n",
        "6. Comparative Analysis\n",
        "7. Conclusion\n",
        "8. References"
      ],
      "metadata": {
        "id": "EcaUG1uyfeiS"
      }
    },
    {
      "cell_type": "markdown",
      "source": [
        "## 1. Introduction\n",
        "\n",
        "### 1.1 Project Overview\n",
        "The purpose of this project is to analyze consumer feedback in order to identify trends, opportunities and areas for improvement in Beats products. This analysis aims to provide actionable insights that will inform product development, marketing strategies, enhance consumer experience and ultimately drive business growth.\n",
        "\n",
        "---\n",
        "\n",
        "### Key Objectives\n",
        "\n",
        "- Evaluate product performance\n",
        "- Analyze consumer feedback\n",
        "- Correlation analysis\n",
        "- Insights generation"
      ],
      "metadata": {
        "id": "jbYdV2Rbf0AD"
      }
    },
    {
      "cell_type": "markdown",
      "source": [
        "### 1.2 Background\n",
        "Beats by Dre is a leading audio products manufacturer with strong presence in the tech industry. In today's digital age, customer opinions and sentiments are important in shaping the reputation and success of any brand. In the tech industry most especially, where competition is fierce and customer loyalty is difficult to maintain, understanding consumer sentiment is crucial.\n",
        "\n",
        "By analyzing consumer sentiments, Beats by Dre can gain valuable imsights into market trends, consumer preferences, and product performance. This enables data-driven decision-making and ensures that Beats stays ahead of competition and meets consumer needs at all times."
      ],
      "metadata": {
        "id": "gsPiaY4Zf6bZ"
      }
    },
    {
      "cell_type": "markdown",
      "source": [
        "## 2. Data Description\n",
        "\n",
        "### 2.1 Data Sources\n",
        "The data source for this analysis includes consumer reviews collected from Amazon; an e-commerce website. The total sample size for this analysis is about 1000+ data points."
      ],
      "metadata": {
        "id": "oL_6d6NngA_2"
      }
    },
    {
      "cell_type": "markdown",
      "source": [
        "### 2.2 Data Collection Process\n",
        "The data was collected through scraping using Oxylabs' scraper APIs. Reviews from 12 different products were gathered and loaded into a single csv file.\n",
        "\n",
        "While data is usually of high quality, there were some missing values and duplicates in the data set which I handled in the cleaning process"
      ],
      "metadata": {
        "id": "8KD8d0nXgCAy"
      }
    },
    {
      "cell_type": "markdown",
      "source": [
        "---\n",
        "I made use of the reference data set provided in the student platform to save time and to ensure that the data provided was genuine, I compared it with actual results from Amazon website.\n",
        "\n",
        "To import my data, I ran the following lines of code;"
      ],
      "metadata": {
        "id": "Il07aQnePUaS"
      }
    },
    {
      "cell_type": "code",
      "source": [
        "! pip install pandas"
      ],
      "metadata": {
        "colab": {
          "base_uri": "https://localhost:8080/"
        },
        "collapsed": true,
        "id": "jCl4a7J61nzG",
        "outputId": "3879c8c8-2417-4631-ee8d-5ab4e280dd4e"
      },
      "execution_count": null,
      "outputs": [
        {
          "output_type": "stream",
          "name": "stdout",
          "text": [
            "Requirement already satisfied: pandas in /usr/local/lib/python3.10/dist-packages (2.2.2)\n",
            "Requirement already satisfied: numpy>=1.22.4 in /usr/local/lib/python3.10/dist-packages (from pandas) (1.26.4)\n",
            "Requirement already satisfied: python-dateutil>=2.8.2 in /usr/local/lib/python3.10/dist-packages (from pandas) (2.8.2)\n",
            "Requirement already satisfied: pytz>=2020.1 in /usr/local/lib/python3.10/dist-packages (from pandas) (2024.2)\n",
            "Requirement already satisfied: tzdata>=2022.7 in /usr/local/lib/python3.10/dist-packages (from pandas) (2024.2)\n",
            "Requirement already satisfied: six>=1.5 in /usr/local/lib/python3.10/dist-packages (from python-dateutil>=2.8.2->pandas) (1.16.0)\n"
          ]
        }
      ]
    },
    {
      "cell_type": "code",
      "source": [
        "\n",
        "import pandas as pd\n",
        "import csv\n",
        "\n",
        "file_path= '/content/reference_dataset_for_beats_externship.csv'\n",
        "with open(file_path, 'r') as file:\n",
        "  data= csv.reader(file)"
      ],
      "metadata": {
        "id": "OZMiHEVXN-9W"
      },
      "execution_count": null,
      "outputs": []
    },
    {
      "cell_type": "markdown",
      "source": [
        "### 2.3 Data Cleaning\n",
        "This data had missing values and it was provided with customer reviews about different products. I wanted to stick to Bluetooth speakers from different brands. This required a lot of cleaning. Here are the lines of code I ran to achieve that."
      ],
      "metadata": {
        "id": "dnCMjSjegE55"
      }
    },
    {
      "cell_type": "code",
      "source": [
        "data= pd.read_csv('reference_dataset_for_beats_externship.csv', encoding='latin-1',on_bad_lines='skip')\n",
        "data.head()"
      ],
      "metadata": {
        "id": "bgAD9_XRgGru",
        "outputId": "86c95e5b-859f-40aa-81fa-9251976c2a47",
        "colab": {
          "base_uri": "https://localhost:8080/",
          "height": 677
        }
      },
      "execution_count": null,
      "outputs": [
        {
          "output_type": "execute_result",
          "data": {
            "text/plain": [
              "  Unnamed: 0       review_id  product_id  \\\n",
              "0          0   RUE030N50F9EJ  B09PYVXXW5   \n",
              "1          1  R385JSD6KWP2QU  B09PYVXXW5   \n",
              "2          2  R1UB1V4EPP9MN3  B09PYVXXW5   \n",
              "3          3   RWYK1GXIVV6H1  B09PYVXXW5   \n",
              "4          4  R3FBQBGQM3II4W  B09PYVXXW5   \n",
              "\n",
              "                                               title    author rating  \\\n",
              "0  5.0 out of 5 stars Really good with a couple o...       CTM      5   \n",
              "1  4.0 out of 5 stars I wish I could rate 5 stars...    Gianna      4   \n",
              "2  5.0 out of 5 stars Basically perfect, fantasti...  Colin M.      5   \n",
              "3            1.0 out of 5 stars Decent but Defective    Aquila      1   \n",
              "4   3.0 out of 5 stars I went with soundcore instead   Frankie      3   \n",
              "\n",
              "                                             content  \\\n",
              "0  I love TWS earbuds. I have many including buds...   \n",
              "1  &I just can\u0019t. Because as useful as these earb...   \n",
              "2  I needed a replacement for my Galaxy buds pro'...   \n",
              "3  UPDATE 6/24/22: As of 6/23/22, my replacement ...   \n",
              "4  So out of the box these tiny buds surprised me...   \n",
              "\n",
              "                                        timestamp  \\\n",
              "0      Reviewed in the United States May 14, 2022   \n",
              "1     Reviewed in the United States July 22, 2023   \n",
              "2   Reviewed in the United States August 18, 2022   \n",
              "3      Reviewed in the United States June 3, 2022   \n",
              "4  Reviewed in the United States October 28, 2022   \n",
              "\n",
              "                     profile_id  is_verified  helpful_count product_attributes  \n",
              "0  AEGYSY5H3ZUJC4SGGPRM3Z2OE5PA          1.0           32.0       Color: Black  \n",
              "1  AHINA7A6O2I5RZSNAY4OWYN4QXVA          1.0           31.0         Color: Red  \n",
              "2  AFG2T5XGMQCACK7JBDRHKEKWJLPA          1.0           21.0         Color: Red  \n",
              "3  AGFUWY2GO4HF5RMLUR7ZOSKID4KA          1.0            9.0       Color: Black  \n",
              "4  AEOFU2SCDWYLS6DTSXIR6FWMRQMQ          1.0            7.0       Color: Black  "
            ],
            "text/html": [
              "\n",
              "  <div id=\"df-4c26b077-17e7-48f2-8d64-b548d3793bd0\" class=\"colab-df-container\">\n",
              "    <div>\n",
              "<style scoped>\n",
              "    .dataframe tbody tr th:only-of-type {\n",
              "        vertical-align: middle;\n",
              "    }\n",
              "\n",
              "    .dataframe tbody tr th {\n",
              "        vertical-align: top;\n",
              "    }\n",
              "\n",
              "    .dataframe thead th {\n",
              "        text-align: right;\n",
              "    }\n",
              "</style>\n",
              "<table border=\"1\" class=\"dataframe\">\n",
              "  <thead>\n",
              "    <tr style=\"text-align: right;\">\n",
              "      <th></th>\n",
              "      <th>Unnamed: 0</th>\n",
              "      <th>review_id</th>\n",
              "      <th>product_id</th>\n",
              "      <th>title</th>\n",
              "      <th>author</th>\n",
              "      <th>rating</th>\n",
              "      <th>content</th>\n",
              "      <th>timestamp</th>\n",
              "      <th>profile_id</th>\n",
              "      <th>is_verified</th>\n",
              "      <th>helpful_count</th>\n",
              "      <th>product_attributes</th>\n",
              "    </tr>\n",
              "  </thead>\n",
              "  <tbody>\n",
              "    <tr>\n",
              "      <th>0</th>\n",
              "      <td>0</td>\n",
              "      <td>RUE030N50F9EJ</td>\n",
              "      <td>B09PYVXXW5</td>\n",
              "      <td>5.0 out of 5 stars Really good with a couple o...</td>\n",
              "      <td>CTM</td>\n",
              "      <td>5</td>\n",
              "      <td>I love TWS earbuds. I have many including buds...</td>\n",
              "      <td>Reviewed in the United States May 14, 2022</td>\n",
              "      <td>AEGYSY5H3ZUJC4SGGPRM3Z2OE5PA</td>\n",
              "      <td>1.0</td>\n",
              "      <td>32.0</td>\n",
              "      <td>Color: Black</td>\n",
              "    </tr>\n",
              "    <tr>\n",
              "      <th>1</th>\n",
              "      <td>1</td>\n",
              "      <td>R385JSD6KWP2QU</td>\n",
              "      <td>B09PYVXXW5</td>\n",
              "      <td>4.0 out of 5 stars I wish I could rate 5 stars...</td>\n",
              "      <td>Gianna</td>\n",
              "      <td>4</td>\n",
              "      <td>&amp;I just can\u0019t. Because as useful as these earb...</td>\n",
              "      <td>Reviewed in the United States July 22, 2023</td>\n",
              "      <td>AHINA7A6O2I5RZSNAY4OWYN4QXVA</td>\n",
              "      <td>1.0</td>\n",
              "      <td>31.0</td>\n",
              "      <td>Color: Red</td>\n",
              "    </tr>\n",
              "    <tr>\n",
              "      <th>2</th>\n",
              "      <td>2</td>\n",
              "      <td>R1UB1V4EPP9MN3</td>\n",
              "      <td>B09PYVXXW5</td>\n",
              "      <td>5.0 out of 5 stars Basically perfect, fantasti...</td>\n",
              "      <td>Colin M.</td>\n",
              "      <td>5</td>\n",
              "      <td>I needed a replacement for my Galaxy buds pro'...</td>\n",
              "      <td>Reviewed in the United States August 18, 2022</td>\n",
              "      <td>AFG2T5XGMQCACK7JBDRHKEKWJLPA</td>\n",
              "      <td>1.0</td>\n",
              "      <td>21.0</td>\n",
              "      <td>Color: Red</td>\n",
              "    </tr>\n",
              "    <tr>\n",
              "      <th>3</th>\n",
              "      <td>3</td>\n",
              "      <td>RWYK1GXIVV6H1</td>\n",
              "      <td>B09PYVXXW5</td>\n",
              "      <td>1.0 out of 5 stars Decent but Defective</td>\n",
              "      <td>Aquila</td>\n",
              "      <td>1</td>\n",
              "      <td>UPDATE 6/24/22: As of 6/23/22, my replacement ...</td>\n",
              "      <td>Reviewed in the United States June 3, 2022</td>\n",
              "      <td>AGFUWY2GO4HF5RMLUR7ZOSKID4KA</td>\n",
              "      <td>1.0</td>\n",
              "      <td>9.0</td>\n",
              "      <td>Color: Black</td>\n",
              "    </tr>\n",
              "    <tr>\n",
              "      <th>4</th>\n",
              "      <td>4</td>\n",
              "      <td>R3FBQBGQM3II4W</td>\n",
              "      <td>B09PYVXXW5</td>\n",
              "      <td>3.0 out of 5 stars I went with soundcore instead</td>\n",
              "      <td>Frankie</td>\n",
              "      <td>3</td>\n",
              "      <td>So out of the box these tiny buds surprised me...</td>\n",
              "      <td>Reviewed in the United States October 28, 2022</td>\n",
              "      <td>AEOFU2SCDWYLS6DTSXIR6FWMRQMQ</td>\n",
              "      <td>1.0</td>\n",
              "      <td>7.0</td>\n",
              "      <td>Color: Black</td>\n",
              "    </tr>\n",
              "  </tbody>\n",
              "</table>\n",
              "</div>\n",
              "    <div class=\"colab-df-buttons\">\n",
              "\n",
              "  <div class=\"colab-df-container\">\n",
              "    <button class=\"colab-df-convert\" onclick=\"convertToInteractive('df-4c26b077-17e7-48f2-8d64-b548d3793bd0')\"\n",
              "            title=\"Convert this dataframe to an interactive table.\"\n",
              "            style=\"display:none;\">\n",
              "\n",
              "  <svg xmlns=\"http://www.w3.org/2000/svg\" height=\"24px\" viewBox=\"0 -960 960 960\">\n",
              "    <path d=\"M120-120v-720h720v720H120Zm60-500h600v-160H180v160Zm220 220h160v-160H400v160Zm0 220h160v-160H400v160ZM180-400h160v-160H180v160Zm440 0h160v-160H620v160ZM180-180h160v-160H180v160Zm440 0h160v-160H620v160Z\"/>\n",
              "  </svg>\n",
              "    </button>\n",
              "\n",
              "  <style>\n",
              "    .colab-df-container {\n",
              "      display:flex;\n",
              "      gap: 12px;\n",
              "    }\n",
              "\n",
              "    .colab-df-convert {\n",
              "      background-color: #E8F0FE;\n",
              "      border: none;\n",
              "      border-radius: 50%;\n",
              "      cursor: pointer;\n",
              "      display: none;\n",
              "      fill: #1967D2;\n",
              "      height: 32px;\n",
              "      padding: 0 0 0 0;\n",
              "      width: 32px;\n",
              "    }\n",
              "\n",
              "    .colab-df-convert:hover {\n",
              "      background-color: #E2EBFA;\n",
              "      box-shadow: 0px 1px 2px rgba(60, 64, 67, 0.3), 0px 1px 3px 1px rgba(60, 64, 67, 0.15);\n",
              "      fill: #174EA6;\n",
              "    }\n",
              "\n",
              "    .colab-df-buttons div {\n",
              "      margin-bottom: 4px;\n",
              "    }\n",
              "\n",
              "    [theme=dark] .colab-df-convert {\n",
              "      background-color: #3B4455;\n",
              "      fill: #D2E3FC;\n",
              "    }\n",
              "\n",
              "    [theme=dark] .colab-df-convert:hover {\n",
              "      background-color: #434B5C;\n",
              "      box-shadow: 0px 1px 3px 1px rgba(0, 0, 0, 0.15);\n",
              "      filter: drop-shadow(0px 1px 2px rgba(0, 0, 0, 0.3));\n",
              "      fill: #FFFFFF;\n",
              "    }\n",
              "  </style>\n",
              "\n",
              "    <script>\n",
              "      const buttonEl =\n",
              "        document.querySelector('#df-4c26b077-17e7-48f2-8d64-b548d3793bd0 button.colab-df-convert');\n",
              "      buttonEl.style.display =\n",
              "        google.colab.kernel.accessAllowed ? 'block' : 'none';\n",
              "\n",
              "      async function convertToInteractive(key) {\n",
              "        const element = document.querySelector('#df-4c26b077-17e7-48f2-8d64-b548d3793bd0');\n",
              "        const dataTable =\n",
              "          await google.colab.kernel.invokeFunction('convertToInteractive',\n",
              "                                                    [key], {});\n",
              "        if (!dataTable) return;\n",
              "\n",
              "        const docLinkHtml = 'Like what you see? Visit the ' +\n",
              "          '<a target=\"_blank\" href=https://colab.research.google.com/notebooks/data_table.ipynb>data table notebook</a>'\n",
              "          + ' to learn more about interactive tables.';\n",
              "        element.innerHTML = '';\n",
              "        dataTable['output_type'] = 'display_data';\n",
              "        await google.colab.output.renderOutput(dataTable, element);\n",
              "        const docLink = document.createElement('div');\n",
              "        docLink.innerHTML = docLinkHtml;\n",
              "        element.appendChild(docLink);\n",
              "      }\n",
              "    </script>\n",
              "  </div>\n",
              "\n",
              "\n",
              "<div id=\"df-6c8e117d-53be-45b5-ac46-4ef1c772bb49\">\n",
              "  <button class=\"colab-df-quickchart\" onclick=\"quickchart('df-6c8e117d-53be-45b5-ac46-4ef1c772bb49')\"\n",
              "            title=\"Suggest charts\"\n",
              "            style=\"display:none;\">\n",
              "\n",
              "<svg xmlns=\"http://www.w3.org/2000/svg\" height=\"24px\"viewBox=\"0 0 24 24\"\n",
              "     width=\"24px\">\n",
              "    <g>\n",
              "        <path d=\"M19 3H5c-1.1 0-2 .9-2 2v14c0 1.1.9 2 2 2h14c1.1 0 2-.9 2-2V5c0-1.1-.9-2-2-2zM9 17H7v-7h2v7zm4 0h-2V7h2v10zm4 0h-2v-4h2v4z\"/>\n",
              "    </g>\n",
              "</svg>\n",
              "  </button>\n",
              "\n",
              "<style>\n",
              "  .colab-df-quickchart {\n",
              "      --bg-color: #E8F0FE;\n",
              "      --fill-color: #1967D2;\n",
              "      --hover-bg-color: #E2EBFA;\n",
              "      --hover-fill-color: #174EA6;\n",
              "      --disabled-fill-color: #AAA;\n",
              "      --disabled-bg-color: #DDD;\n",
              "  }\n",
              "\n",
              "  [theme=dark] .colab-df-quickchart {\n",
              "      --bg-color: #3B4455;\n",
              "      --fill-color: #D2E3FC;\n",
              "      --hover-bg-color: #434B5C;\n",
              "      --hover-fill-color: #FFFFFF;\n",
              "      --disabled-bg-color: #3B4455;\n",
              "      --disabled-fill-color: #666;\n",
              "  }\n",
              "\n",
              "  .colab-df-quickchart {\n",
              "    background-color: var(--bg-color);\n",
              "    border: none;\n",
              "    border-radius: 50%;\n",
              "    cursor: pointer;\n",
              "    display: none;\n",
              "    fill: var(--fill-color);\n",
              "    height: 32px;\n",
              "    padding: 0;\n",
              "    width: 32px;\n",
              "  }\n",
              "\n",
              "  .colab-df-quickchart:hover {\n",
              "    background-color: var(--hover-bg-color);\n",
              "    box-shadow: 0 1px 2px rgba(60, 64, 67, 0.3), 0 1px 3px 1px rgba(60, 64, 67, 0.15);\n",
              "    fill: var(--button-hover-fill-color);\n",
              "  }\n",
              "\n",
              "  .colab-df-quickchart-complete:disabled,\n",
              "  .colab-df-quickchart-complete:disabled:hover {\n",
              "    background-color: var(--disabled-bg-color);\n",
              "    fill: var(--disabled-fill-color);\n",
              "    box-shadow: none;\n",
              "  }\n",
              "\n",
              "  .colab-df-spinner {\n",
              "    border: 2px solid var(--fill-color);\n",
              "    border-color: transparent;\n",
              "    border-bottom-color: var(--fill-color);\n",
              "    animation:\n",
              "      spin 1s steps(1) infinite;\n",
              "  }\n",
              "\n",
              "  @keyframes spin {\n",
              "    0% {\n",
              "      border-color: transparent;\n",
              "      border-bottom-color: var(--fill-color);\n",
              "      border-left-color: var(--fill-color);\n",
              "    }\n",
              "    20% {\n",
              "      border-color: transparent;\n",
              "      border-left-color: var(--fill-color);\n",
              "      border-top-color: var(--fill-color);\n",
              "    }\n",
              "    30% {\n",
              "      border-color: transparent;\n",
              "      border-left-color: var(--fill-color);\n",
              "      border-top-color: var(--fill-color);\n",
              "      border-right-color: var(--fill-color);\n",
              "    }\n",
              "    40% {\n",
              "      border-color: transparent;\n",
              "      border-right-color: var(--fill-color);\n",
              "      border-top-color: var(--fill-color);\n",
              "    }\n",
              "    60% {\n",
              "      border-color: transparent;\n",
              "      border-right-color: var(--fill-color);\n",
              "    }\n",
              "    80% {\n",
              "      border-color: transparent;\n",
              "      border-right-color: var(--fill-color);\n",
              "      border-bottom-color: var(--fill-color);\n",
              "    }\n",
              "    90% {\n",
              "      border-color: transparent;\n",
              "      border-bottom-color: var(--fill-color);\n",
              "    }\n",
              "  }\n",
              "</style>\n",
              "\n",
              "  <script>\n",
              "    async function quickchart(key) {\n",
              "      const quickchartButtonEl =\n",
              "        document.querySelector('#' + key + ' button');\n",
              "      quickchartButtonEl.disabled = true;  // To prevent multiple clicks.\n",
              "      quickchartButtonEl.classList.add('colab-df-spinner');\n",
              "      try {\n",
              "        const charts = await google.colab.kernel.invokeFunction(\n",
              "            'suggestCharts', [key], {});\n",
              "      } catch (error) {\n",
              "        console.error('Error during call to suggestCharts:', error);\n",
              "      }\n",
              "      quickchartButtonEl.classList.remove('colab-df-spinner');\n",
              "      quickchartButtonEl.classList.add('colab-df-quickchart-complete');\n",
              "    }\n",
              "    (() => {\n",
              "      let quickchartButtonEl =\n",
              "        document.querySelector('#df-6c8e117d-53be-45b5-ac46-4ef1c772bb49 button');\n",
              "      quickchartButtonEl.style.display =\n",
              "        google.colab.kernel.accessAllowed ? 'block' : 'none';\n",
              "    })();\n",
              "  </script>\n",
              "</div>\n",
              "\n",
              "    </div>\n",
              "  </div>\n"
            ],
            "application/vnd.google.colaboratory.intrinsic+json": {
              "type": "dataframe",
              "variable_name": "data",
              "summary": "{\n  \"name\": \"data\",\n  \"rows\": 4962,\n  \"fields\": [\n    {\n      \"column\": \"Unnamed: 0\",\n      \"properties\": {\n        \"dtype\": \"string\",\n        \"num_unique_values\": 4948,\n        \"samples\": [\n          \"151\",\n          \"805\",\n          \"619\"\n        ],\n        \"semantic_type\": \"\",\n        \"description\": \"\"\n      }\n    },\n    {\n      \"column\": \"review_id\",\n      \"properties\": {\n        \"dtype\": \"string\",\n        \"num_unique_values\": 4743,\n        \"samples\": [\n          \"R3ACA4BFELO1SS\",\n          \"RJJPQB51VQDF1\",\n          \"R38SRY384C7MD6\"\n        ],\n        \"semantic_type\": \"\",\n        \"description\": \"\"\n      }\n    },\n    {\n      \"column\": \"product_id\",\n      \"properties\": {\n        \"dtype\": \"category\",\n        \"num_unique_values\": 63,\n        \"samples\": [\n          \"B0B43Y8GHZ\",\n          \"B09GK5JMHK\",\n          \"B09PYVXXW5\"\n        ],\n        \"semantic_type\": \"\",\n        \"description\": \"\"\n      }\n    },\n    {\n      \"column\": \"title\",\n      \"properties\": {\n        \"dtype\": \"string\",\n        \"num_unique_values\": 4151,\n        \"samples\": [\n          \"5.0 out of 5 stars Amazing sound for a fair price. The multipurpose cord is very useful.\",\n          \"5.0 out of 5 stars Droppin' Beats!\",\n          \"5.0 out of 5 stars Bateria\"\n        ],\n        \"semantic_type\": \"\",\n        \"description\": \"\"\n      }\n    },\n    {\n      \"column\": \"author\",\n      \"properties\": {\n        \"dtype\": \"string\",\n        \"num_unique_values\": 4132,\n        \"samples\": [\n          \"anthony kubacak\",\n          \"Tim Napier\",\n          \"Dalmiro De Jesus Ladeuth Ospino\"\n        ],\n        \"semantic_type\": \"\",\n        \"description\": \"\"\n      }\n    },\n    {\n      \"column\": \"rating\",\n      \"properties\": {\n        \"dtype\": \"category\",\n        \"num_unique_values\": 16,\n        \"samples\": [\n          \"5\",\n          \"4\",\n          \"Color: TealStyle: Pop+\"\n        ],\n        \"semantic_type\": \"\",\n        \"description\": \"\"\n      }\n    },\n    {\n      \"column\": \"content\",\n      \"properties\": {\n        \"dtype\": \"string\",\n        \"num_unique_values\": 4686,\n        \"samples\": [\n          \"Been using the Jabra Elite 75t for some time now for my home/office work flow, but realized the hassle of having to reconnect the buds to other devices beyond my work laptop and phone wasn't worth the effort and now that I have a Pixel 7 Pro and the Pixel Buds Pro were on sale, decided to give them a shot.Pros:- transparency mode is great! Can hear things clearly and without the digital artifacts that my 75ts exhibit while using Hearthrough. Sounds seem mostly natural and somewhat amplified (see con below), however.- don't even feel them in my ear using stock silicon medium sized ear tips (current testing foam tips to see if ANC performance increases)- appreciate the visual design of the buds themselves- tight integration with Pixel 7- spacial audio with head tracking is a cool, albeit limited, feature. Was watching The Mandalorian season 3 and noticed that if I turned my head, the sound would favor the direction that my phone was facing me from, as well has any height audio that may come through. Watching Terminal List on Amazon yielded no such benefit.- can use one at a time and doesn't matter which oneCons- Pixel Buds app seems to drain phone battery quicker while buds are active --- still trying to figure out why this is the case- case is bigger than elite 75t and orientation seems less intuitive when trying to put them back in after use (obviously matters less as you get used to them)- ANC seems to favor blocking out lows and mids but highs still come through. I feel like this is a tuning issue. Both transparency and ANC modes favor higher pitched sounds and even swapping out ear tips (med to lrg and silicone to foam) have no apparent effect. The Jabra ANC could be adjusted and I wish there was a similar feature for the buds.I will keep these buds, as the value is there (not full MSRP) and being able to use 1 at a time is a boon\",\n          \"So I have always been a fan of Sony products especially the speakers, and the last one I had was the XSBX 33 the small little blue one and it was really good and all the lights are on the side and everything and then I saw this one and I\\u0019m like whoa wait a minute and I\\u0019ll tell you it is worth the money. Wow I think this is gonna be like the last speaker I buy =\\u000e=\\u000e\",\n          \"Well after 1600 hours on these I accidentally lost them so I'm heart broken. Regardless here's my review. There extremely comfortable to the point I have had them in my ears for 16 hours total being the longest period of time. The battery per ear bud is perfect. When one dies pop it in the case and use the other one. The build quality is also perfect, I'm a mobile mechanic for a living so I'm rough on my stuff these have worked perfect in the rain,been dropped etc. Touch controls are great I can usually use my shoulder to click pause if someone starts talking and I'm not hands free. You get alot of value for the money in my opinion compared to say the samsung buds I'm using til I buy another pair. If you check my screen shot my other pair of sonys lasted 1500 hours but I accidentally broke them as well.\"\n        ],\n        \"semantic_type\": \"\",\n        \"description\": \"\"\n      }\n    },\n    {\n      \"column\": \"timestamp\",\n      \"properties\": {\n        \"dtype\": \"category\",\n        \"num_unique_values\": 926,\n        \"samples\": [\n          \"Reviewed in the United States August 5, 2021\",\n          \"Reviewed in the United States August 2, 2018\",\n          \"Reviewed in the United States July 21, 2024\"\n        ],\n        \"semantic_type\": \"\",\n        \"description\": \"\"\n      }\n    },\n    {\n      \"column\": \"profile_id\",\n      \"properties\": {\n        \"dtype\": \"string\",\n        \"num_unique_values\": 4697,\n        \"samples\": [\n          \"AF5I7TVBLUTN4MXID6R7TKRV2EGA\",\n          \"AGS4BMZI2JUHDY5P6P6QMGW2SH5Q\",\n          \"AEG2W25GCPR6MHA7UGBURISWN5HA\"\n        ],\n        \"semantic_type\": \"\",\n        \"description\": \"\"\n      }\n    },\n    {\n      \"column\": \"is_verified\",\n      \"properties\": {\n        \"dtype\": \"number\",\n        \"std\": 0.24208602268352764,\n        \"min\": 0.0,\n        \"max\": 1.0,\n        \"num_unique_values\": 2,\n        \"samples\": [\n          0.0,\n          1.0\n        ],\n        \"semantic_type\": \"\",\n        \"description\": \"\"\n      }\n    },\n    {\n      \"column\": \"helpful_count\",\n      \"properties\": {\n        \"dtype\": \"number\",\n        \"std\": 61.48914358638862,\n        \"min\": 0.0,\n        \"max\": 2284.0,\n        \"num_unique_values\": 116,\n        \"samples\": [\n          84.0,\n          7.0\n        ],\n        \"semantic_type\": \"\",\n        \"description\": \"\"\n      }\n    },\n    {\n      \"column\": \"product_attributes\",\n      \"properties\": {\n        \"dtype\": \"category\",\n        \"num_unique_values\": 135,\n        \"samples\": [\n          \"Color: Black/GoldStyle: Studio Buds +Set: Without AppleCare+\",\n          \"Color: ChestnutStyle: Bluetooth speaker\"\n        ],\n        \"semantic_type\": \"\",\n        \"description\": \"\"\n      }\n    }\n  ]\n}"
            }
          },
          "metadata": {},
          "execution_count": 3
        }
      ]
    },
    {
      "cell_type": "markdown",
      "source": [
        "To identify reviews based on the Bluetooth speaker and brand name, i conducted product mapping, replacing the product ASINs with the name of the brand."
      ],
      "metadata": {
        "id": "M89dQ5jcWE5z"
      }
    },
    {
      "cell_type": "code",
      "source": [
        "product_mapping ={\n",
        "    'B0CXL4FQBK': 'Sony ULT Field 1 Wireless Bluetooth Speaker',\n",
        "    'B099TJGJ91': 'Bose Soundlink black Bluetooth Speaker',\n",
        "    'B0D4SX9RC6': 'Beats Pill black Bluetooth Speaker',\n",
        "    'B0B44F1GGK': 'Sony SRS XE 200 X Series Bluetooth Speaker',\n",
        "    'B08X4YMTPM': 'JBL Charge 5 Bluetooth Speaker',\n",
        "    'B0BG93TZ5N': 'Tronmart Bang SE Bluetooth Speaker',\n",
        "    'B0CY6S748H': 'Sonos Roam 2 Bluetooth Speaker',\n",
        "    'B07GWRCZQP': 'JBL Charge 4 Bluetooth Speaker',\n",
        "    'B0B43Y8GHZ': 'Sony SRS X300 Bluetooth Speaker',\n",
        "    'B0B445JCZ3': 'Sony SRS XE300 Bluetooth Speaker',\n",
        "    'B099TLMRBG': 'Bose Soundlink Flex white Bluetooth Speaker',\n",
        "    'B0D4STD5ZC': 'Beats Pill red Bluetooth Speaker',\n",
        "    'B09GK5JMHK': 'JBL Flip 6 Bluetooth Speaker',\n",
        "    'B09XXW54QG': 'Marshall Emberton Bluetooth Speaker'\n",
        "}\n",
        "data['product_name'] = data['product_id'].map(product_mapping)\n",
        "data.to_csv('updated_dataset.csv', index=False)"
      ],
      "metadata": {
        "id": "DJSDPwL4V6OQ"
      },
      "execution_count": null,
      "outputs": []
    },
    {
      "cell_type": "markdown",
      "source": [
        "As seen here, a new 'product name' column has been added."
      ],
      "metadata": {
        "id": "UadntMAmZNKj"
      }
    },
    {
      "cell_type": "code",
      "source": [
        "data.columns"
      ],
      "metadata": {
        "colab": {
          "base_uri": "https://localhost:8080/"
        },
        "id": "7NXaDBFIXf0l",
        "outputId": "1d606a65-fbe2-4667-9327-c30dbfc1264d"
      },
      "execution_count": null,
      "outputs": [
        {
          "output_type": "execute_result",
          "data": {
            "text/plain": [
              "Index(['Unnamed: 0', 'review_id', 'product_id', 'title', 'author', 'rating',\n",
              "       'content', 'timestamp', 'profile_id', 'is_verified', 'helpful_count',\n",
              "       'product_attributes', 'product_name'],\n",
              "      dtype='object')"
            ]
          },
          "metadata": {},
          "execution_count": 5
        }
      ]
    },
    {
      "cell_type": "markdown",
      "source": [
        "I proceeded to drop all missing values. My aim for this other than cleaning the data was to drop all values that did not contain the product name. This made my analysis easier."
      ],
      "metadata": {
        "id": "asMxpkJCY4Oe"
      }
    },
    {
      "cell_type": "code",
      "source": [
        "data= pd.read_csv('updated_dataset.csv')"
      ],
      "metadata": {
        "id": "Zb7JkHuMAgV7"
      },
      "execution_count": null,
      "outputs": []
    },
    {
      "cell_type": "code",
      "source": [
        "data_dropped=data.dropna(inplace=True)\n",
        "print('DataFrame after dropping null values:\\n', data_dropped)"
      ],
      "metadata": {
        "colab": {
          "base_uri": "https://localhost:8080/"
        },
        "id": "yt3dhgOFYmNM",
        "outputId": "b1657f09-8871-41be-f889-3a0ffce752f1"
      },
      "execution_count": null,
      "outputs": [
        {
          "output_type": "stream",
          "name": "stdout",
          "text": [
            "DataFrame after dropping null values:\n",
            " None\n"
          ]
        }
      ]
    },
    {
      "cell_type": "markdown",
      "source": [
        "Next was to check if there were any duplicates and there was none."
      ],
      "metadata": {
        "id": "yw5yhvw5ZfvS"
      }
    },
    {
      "cell_type": "code",
      "source": [
        "duplicates= data.duplicated()\n",
        "print('Duplicate rows:\\n', duplicates)"
      ],
      "metadata": {
        "colab": {
          "base_uri": "https://localhost:8080/"
        },
        "id": "ibe-QpX-Zrxj",
        "outputId": "c4162dff-efd0-43d6-fa44-091538047266"
      },
      "execution_count": null,
      "outputs": [
        {
          "output_type": "stream",
          "name": "stdout",
          "text": [
            "Duplicate rows:\n",
            " 1003    False\n",
            "1004    False\n",
            "1005    False\n",
            "1006    False\n",
            "1007    False\n",
            "        ...  \n",
            "4957    False\n",
            "4958    False\n",
            "4959    False\n",
            "4960    False\n",
            "4961    False\n",
            "Length: 1134, dtype: bool\n"
          ]
        }
      ]
    },
    {
      "cell_type": "code",
      "source": [
        "data.to_csv('updated_reviews.csv', index=False)\n"
      ],
      "metadata": {
        "collapsed": true,
        "id": "PAESUSuqaBEG"
      },
      "execution_count": null,
      "outputs": []
    },
    {
      "cell_type": "code",
      "source": [
        "data=  pd.read_csv('updated_reviews.csv')\n",
        "data.tail()"
      ],
      "metadata": {
        "id": "jRR_WDOZAuih",
        "colab": {
          "base_uri": "https://localhost:8080/",
          "height": 729
        },
        "outputId": "879f0205-f641-467d-aaf0-d82aaf8f1400"
      },
      "execution_count": null,
      "outputs": [
        {
          "output_type": "execute_result",
          "data": {
            "text/plain": [
              "      Unnamed: 0       review_id  product_id  \\\n",
              "1129        5865  R2YE8KKVZGETCW  B0CY6S748H   \n",
              "1130        5889   RERGCQ3PLJUTJ  B0CY6S748H   \n",
              "1131        5890  R25VEKRF5EV836  B0CY6S748H   \n",
              "1132        5891  R34PNR72XAULLC  B0CY6S748H   \n",
              "1133        5892  R1GHYH6N4V9BRB  B0CY6S748H   \n",
              "\n",
              "                                                  title       author  rating  \\\n",
              "1129                 4.0 out of 5 stars Quality speaker           SC       4   \n",
              "1130  1.0 out of 5 stars Buyer beware WiFi connectio...  Road Runner       1   \n",
              "1131                1.0 out of 5 stars Horrible service     Linda T.       1   \n",
              "1132  1.0 out of 5 stars Cannot pair two of these wi...        jdawz       1   \n",
              "1133  1.0 out of 5 stars Spotty Qi charging and conn...    TheMeiers       1   \n",
              "\n",
              "                                                content  \\\n",
              "1129  OK I'll start with the elephant in the room......   \n",
              "1130  I bought this speaker 6 months ago, barely use...   \n",
              "1131  I could not link to other Sonos Roam speakers ...   \n",
              "1132  Amazing that they made an outdoor, portable wa...   \n",
              "1133  Not consistent qi charging and bluetooth a pai...   \n",
              "\n",
              "                                        timestamp  \\\n",
              "1129  Reviewed in the United States June 12, 2024   \n",
              "1130   Reviewed in the United States June 2, 2024   \n",
              "1131   Reviewed in the United States May 24, 2024   \n",
              "1132   Reviewed in the United States May 22, 2024   \n",
              "1133   Reviewed in the United States May 24, 2024   \n",
              "\n",
              "                        profile_id  is_verified  helpful_count  \\\n",
              "1129  AGSZPUV3HVYEEYXWLNDAMC4ODM5Q          0.0            0.0   \n",
              "1130  AEGCJLZHMRVLF55FNZBSFVM2Y5PA          0.0            0.0   \n",
              "1131  AEECURQVZUBV4HKCK3M74UANCFKA          0.0            0.0   \n",
              "1132  AFNED7OI2U3V2GPP6XHXMYQY5R6Q          0.0            0.0   \n",
              "1133  AFW6USPKXJEMNISGCXPG2BFMALAQ          0.0            0.0   \n",
              "\n",
              "     product_attributes                    product_name  \n",
              "1129       Color: Black  Sonos Roam 2 Bluetooth Speaker  \n",
              "1130       Color: White  Sonos Roam 2 Bluetooth Speaker  \n",
              "1131       Color: Black  Sonos Roam 2 Bluetooth Speaker  \n",
              "1132       Color: White  Sonos Roam 2 Bluetooth Speaker  \n",
              "1133       Color: Black  Sonos Roam 2 Bluetooth Speaker  "
            ],
            "text/html": [
              "\n",
              "  <div id=\"df-f3a96854-cd58-47db-82c2-63573647bbe4\" class=\"colab-df-container\">\n",
              "    <div>\n",
              "<style scoped>\n",
              "    .dataframe tbody tr th:only-of-type {\n",
              "        vertical-align: middle;\n",
              "    }\n",
              "\n",
              "    .dataframe tbody tr th {\n",
              "        vertical-align: top;\n",
              "    }\n",
              "\n",
              "    .dataframe thead th {\n",
              "        text-align: right;\n",
              "    }\n",
              "</style>\n",
              "<table border=\"1\" class=\"dataframe\">\n",
              "  <thead>\n",
              "    <tr style=\"text-align: right;\">\n",
              "      <th></th>\n",
              "      <th>Unnamed: 0</th>\n",
              "      <th>review_id</th>\n",
              "      <th>product_id</th>\n",
              "      <th>title</th>\n",
              "      <th>author</th>\n",
              "      <th>rating</th>\n",
              "      <th>content</th>\n",
              "      <th>timestamp</th>\n",
              "      <th>profile_id</th>\n",
              "      <th>is_verified</th>\n",
              "      <th>helpful_count</th>\n",
              "      <th>product_attributes</th>\n",
              "      <th>product_name</th>\n",
              "    </tr>\n",
              "  </thead>\n",
              "  <tbody>\n",
              "    <tr>\n",
              "      <th>1129</th>\n",
              "      <td>5865</td>\n",
              "      <td>R2YE8KKVZGETCW</td>\n",
              "      <td>B0CY6S748H</td>\n",
              "      <td>4.0 out of 5 stars Quality speaker</td>\n",
              "      <td>SC</td>\n",
              "      <td>4</td>\n",
              "      <td>OK I'll start with the elephant in the room......</td>\n",
              "      <td>Reviewed in the United States June 12, 2024</td>\n",
              "      <td>AGSZPUV3HVYEEYXWLNDAMC4ODM5Q</td>\n",
              "      <td>0.0</td>\n",
              "      <td>0.0</td>\n",
              "      <td>Color: Black</td>\n",
              "      <td>Sonos Roam 2 Bluetooth Speaker</td>\n",
              "    </tr>\n",
              "    <tr>\n",
              "      <th>1130</th>\n",
              "      <td>5889</td>\n",
              "      <td>RERGCQ3PLJUTJ</td>\n",
              "      <td>B0CY6S748H</td>\n",
              "      <td>1.0 out of 5 stars Buyer beware WiFi connectio...</td>\n",
              "      <td>Road Runner</td>\n",
              "      <td>1</td>\n",
              "      <td>I bought this speaker 6 months ago, barely use...</td>\n",
              "      <td>Reviewed in the United States June 2, 2024</td>\n",
              "      <td>AEGCJLZHMRVLF55FNZBSFVM2Y5PA</td>\n",
              "      <td>0.0</td>\n",
              "      <td>0.0</td>\n",
              "      <td>Color: White</td>\n",
              "      <td>Sonos Roam 2 Bluetooth Speaker</td>\n",
              "    </tr>\n",
              "    <tr>\n",
              "      <th>1131</th>\n",
              "      <td>5890</td>\n",
              "      <td>R25VEKRF5EV836</td>\n",
              "      <td>B0CY6S748H</td>\n",
              "      <td>1.0 out of 5 stars Horrible service</td>\n",
              "      <td>Linda T.</td>\n",
              "      <td>1</td>\n",
              "      <td>I could not link to other Sonos Roam speakers ...</td>\n",
              "      <td>Reviewed in the United States May 24, 2024</td>\n",
              "      <td>AEECURQVZUBV4HKCK3M74UANCFKA</td>\n",
              "      <td>0.0</td>\n",
              "      <td>0.0</td>\n",
              "      <td>Color: Black</td>\n",
              "      <td>Sonos Roam 2 Bluetooth Speaker</td>\n",
              "    </tr>\n",
              "    <tr>\n",
              "      <th>1132</th>\n",
              "      <td>5891</td>\n",
              "      <td>R34PNR72XAULLC</td>\n",
              "      <td>B0CY6S748H</td>\n",
              "      <td>1.0 out of 5 stars Cannot pair two of these wi...</td>\n",
              "      <td>jdawz</td>\n",
              "      <td>1</td>\n",
              "      <td>Amazing that they made an outdoor, portable wa...</td>\n",
              "      <td>Reviewed in the United States May 22, 2024</td>\n",
              "      <td>AFNED7OI2U3V2GPP6XHXMYQY5R6Q</td>\n",
              "      <td>0.0</td>\n",
              "      <td>0.0</td>\n",
              "      <td>Color: White</td>\n",
              "      <td>Sonos Roam 2 Bluetooth Speaker</td>\n",
              "    </tr>\n",
              "    <tr>\n",
              "      <th>1133</th>\n",
              "      <td>5892</td>\n",
              "      <td>R1GHYH6N4V9BRB</td>\n",
              "      <td>B0CY6S748H</td>\n",
              "      <td>1.0 out of 5 stars Spotty Qi charging and conn...</td>\n",
              "      <td>TheMeiers</td>\n",
              "      <td>1</td>\n",
              "      <td>Not consistent qi charging and bluetooth a pai...</td>\n",
              "      <td>Reviewed in the United States May 24, 2024</td>\n",
              "      <td>AFW6USPKXJEMNISGCXPG2BFMALAQ</td>\n",
              "      <td>0.0</td>\n",
              "      <td>0.0</td>\n",
              "      <td>Color: Black</td>\n",
              "      <td>Sonos Roam 2 Bluetooth Speaker</td>\n",
              "    </tr>\n",
              "  </tbody>\n",
              "</table>\n",
              "</div>\n",
              "    <div class=\"colab-df-buttons\">\n",
              "\n",
              "  <div class=\"colab-df-container\">\n",
              "    <button class=\"colab-df-convert\" onclick=\"convertToInteractive('df-f3a96854-cd58-47db-82c2-63573647bbe4')\"\n",
              "            title=\"Convert this dataframe to an interactive table.\"\n",
              "            style=\"display:none;\">\n",
              "\n",
              "  <svg xmlns=\"http://www.w3.org/2000/svg\" height=\"24px\" viewBox=\"0 -960 960 960\">\n",
              "    <path d=\"M120-120v-720h720v720H120Zm60-500h600v-160H180v160Zm220 220h160v-160H400v160Zm0 220h160v-160H400v160ZM180-400h160v-160H180v160Zm440 0h160v-160H620v160ZM180-180h160v-160H180v160Zm440 0h160v-160H620v160Z\"/>\n",
              "  </svg>\n",
              "    </button>\n",
              "\n",
              "  <style>\n",
              "    .colab-df-container {\n",
              "      display:flex;\n",
              "      gap: 12px;\n",
              "    }\n",
              "\n",
              "    .colab-df-convert {\n",
              "      background-color: #E8F0FE;\n",
              "      border: none;\n",
              "      border-radius: 50%;\n",
              "      cursor: pointer;\n",
              "      display: none;\n",
              "      fill: #1967D2;\n",
              "      height: 32px;\n",
              "      padding: 0 0 0 0;\n",
              "      width: 32px;\n",
              "    }\n",
              "\n",
              "    .colab-df-convert:hover {\n",
              "      background-color: #E2EBFA;\n",
              "      box-shadow: 0px 1px 2px rgba(60, 64, 67, 0.3), 0px 1px 3px 1px rgba(60, 64, 67, 0.15);\n",
              "      fill: #174EA6;\n",
              "    }\n",
              "\n",
              "    .colab-df-buttons div {\n",
              "      margin-bottom: 4px;\n",
              "    }\n",
              "\n",
              "    [theme=dark] .colab-df-convert {\n",
              "      background-color: #3B4455;\n",
              "      fill: #D2E3FC;\n",
              "    }\n",
              "\n",
              "    [theme=dark] .colab-df-convert:hover {\n",
              "      background-color: #434B5C;\n",
              "      box-shadow: 0px 1px 3px 1px rgba(0, 0, 0, 0.15);\n",
              "      filter: drop-shadow(0px 1px 2px rgba(0, 0, 0, 0.3));\n",
              "      fill: #FFFFFF;\n",
              "    }\n",
              "  </style>\n",
              "\n",
              "    <script>\n",
              "      const buttonEl =\n",
              "        document.querySelector('#df-f3a96854-cd58-47db-82c2-63573647bbe4 button.colab-df-convert');\n",
              "      buttonEl.style.display =\n",
              "        google.colab.kernel.accessAllowed ? 'block' : 'none';\n",
              "\n",
              "      async function convertToInteractive(key) {\n",
              "        const element = document.querySelector('#df-f3a96854-cd58-47db-82c2-63573647bbe4');\n",
              "        const dataTable =\n",
              "          await google.colab.kernel.invokeFunction('convertToInteractive',\n",
              "                                                    [key], {});\n",
              "        if (!dataTable) return;\n",
              "\n",
              "        const docLinkHtml = 'Like what you see? Visit the ' +\n",
              "          '<a target=\"_blank\" href=https://colab.research.google.com/notebooks/data_table.ipynb>data table notebook</a>'\n",
              "          + ' to learn more about interactive tables.';\n",
              "        element.innerHTML = '';\n",
              "        dataTable['output_type'] = 'display_data';\n",
              "        await google.colab.output.renderOutput(dataTable, element);\n",
              "        const docLink = document.createElement('div');\n",
              "        docLink.innerHTML = docLinkHtml;\n",
              "        element.appendChild(docLink);\n",
              "      }\n",
              "    </script>\n",
              "  </div>\n",
              "\n",
              "\n",
              "<div id=\"df-1bf796b6-ac17-4c09-b208-db3c1fa66643\">\n",
              "  <button class=\"colab-df-quickchart\" onclick=\"quickchart('df-1bf796b6-ac17-4c09-b208-db3c1fa66643')\"\n",
              "            title=\"Suggest charts\"\n",
              "            style=\"display:none;\">\n",
              "\n",
              "<svg xmlns=\"http://www.w3.org/2000/svg\" height=\"24px\"viewBox=\"0 0 24 24\"\n",
              "     width=\"24px\">\n",
              "    <g>\n",
              "        <path d=\"M19 3H5c-1.1 0-2 .9-2 2v14c0 1.1.9 2 2 2h14c1.1 0 2-.9 2-2V5c0-1.1-.9-2-2-2zM9 17H7v-7h2v7zm4 0h-2V7h2v10zm4 0h-2v-4h2v4z\"/>\n",
              "    </g>\n",
              "</svg>\n",
              "  </button>\n",
              "\n",
              "<style>\n",
              "  .colab-df-quickchart {\n",
              "      --bg-color: #E8F0FE;\n",
              "      --fill-color: #1967D2;\n",
              "      --hover-bg-color: #E2EBFA;\n",
              "      --hover-fill-color: #174EA6;\n",
              "      --disabled-fill-color: #AAA;\n",
              "      --disabled-bg-color: #DDD;\n",
              "  }\n",
              "\n",
              "  [theme=dark] .colab-df-quickchart {\n",
              "      --bg-color: #3B4455;\n",
              "      --fill-color: #D2E3FC;\n",
              "      --hover-bg-color: #434B5C;\n",
              "      --hover-fill-color: #FFFFFF;\n",
              "      --disabled-bg-color: #3B4455;\n",
              "      --disabled-fill-color: #666;\n",
              "  }\n",
              "\n",
              "  .colab-df-quickchart {\n",
              "    background-color: var(--bg-color);\n",
              "    border: none;\n",
              "    border-radius: 50%;\n",
              "    cursor: pointer;\n",
              "    display: none;\n",
              "    fill: var(--fill-color);\n",
              "    height: 32px;\n",
              "    padding: 0;\n",
              "    width: 32px;\n",
              "  }\n",
              "\n",
              "  .colab-df-quickchart:hover {\n",
              "    background-color: var(--hover-bg-color);\n",
              "    box-shadow: 0 1px 2px rgba(60, 64, 67, 0.3), 0 1px 3px 1px rgba(60, 64, 67, 0.15);\n",
              "    fill: var(--button-hover-fill-color);\n",
              "  }\n",
              "\n",
              "  .colab-df-quickchart-complete:disabled,\n",
              "  .colab-df-quickchart-complete:disabled:hover {\n",
              "    background-color: var(--disabled-bg-color);\n",
              "    fill: var(--disabled-fill-color);\n",
              "    box-shadow: none;\n",
              "  }\n",
              "\n",
              "  .colab-df-spinner {\n",
              "    border: 2px solid var(--fill-color);\n",
              "    border-color: transparent;\n",
              "    border-bottom-color: var(--fill-color);\n",
              "    animation:\n",
              "      spin 1s steps(1) infinite;\n",
              "  }\n",
              "\n",
              "  @keyframes spin {\n",
              "    0% {\n",
              "      border-color: transparent;\n",
              "      border-bottom-color: var(--fill-color);\n",
              "      border-left-color: var(--fill-color);\n",
              "    }\n",
              "    20% {\n",
              "      border-color: transparent;\n",
              "      border-left-color: var(--fill-color);\n",
              "      border-top-color: var(--fill-color);\n",
              "    }\n",
              "    30% {\n",
              "      border-color: transparent;\n",
              "      border-left-color: var(--fill-color);\n",
              "      border-top-color: var(--fill-color);\n",
              "      border-right-color: var(--fill-color);\n",
              "    }\n",
              "    40% {\n",
              "      border-color: transparent;\n",
              "      border-right-color: var(--fill-color);\n",
              "      border-top-color: var(--fill-color);\n",
              "    }\n",
              "    60% {\n",
              "      border-color: transparent;\n",
              "      border-right-color: var(--fill-color);\n",
              "    }\n",
              "    80% {\n",
              "      border-color: transparent;\n",
              "      border-right-color: var(--fill-color);\n",
              "      border-bottom-color: var(--fill-color);\n",
              "    }\n",
              "    90% {\n",
              "      border-color: transparent;\n",
              "      border-bottom-color: var(--fill-color);\n",
              "    }\n",
              "  }\n",
              "</style>\n",
              "\n",
              "  <script>\n",
              "    async function quickchart(key) {\n",
              "      const quickchartButtonEl =\n",
              "        document.querySelector('#' + key + ' button');\n",
              "      quickchartButtonEl.disabled = true;  // To prevent multiple clicks.\n",
              "      quickchartButtonEl.classList.add('colab-df-spinner');\n",
              "      try {\n",
              "        const charts = await google.colab.kernel.invokeFunction(\n",
              "            'suggestCharts', [key], {});\n",
              "      } catch (error) {\n",
              "        console.error('Error during call to suggestCharts:', error);\n",
              "      }\n",
              "      quickchartButtonEl.classList.remove('colab-df-spinner');\n",
              "      quickchartButtonEl.classList.add('colab-df-quickchart-complete');\n",
              "    }\n",
              "    (() => {\n",
              "      let quickchartButtonEl =\n",
              "        document.querySelector('#df-1bf796b6-ac17-4c09-b208-db3c1fa66643 button');\n",
              "      quickchartButtonEl.style.display =\n",
              "        google.colab.kernel.accessAllowed ? 'block' : 'none';\n",
              "    })();\n",
              "  </script>\n",
              "</div>\n",
              "\n",
              "    </div>\n",
              "  </div>\n"
            ],
            "application/vnd.google.colaboratory.intrinsic+json": {
              "type": "dataframe",
              "summary": "{\n  \"name\": \"data\",\n  \"rows\": 5,\n  \"fields\": [\n    {\n      \"column\": \"Unnamed: 0\",\n      \"properties\": {\n        \"dtype\": \"number\",\n        \"std\": 11,\n        \"min\": 5865,\n        \"max\": 5892,\n        \"num_unique_values\": 5,\n        \"samples\": [\n          5889,\n          5892,\n          5890\n        ],\n        \"semantic_type\": \"\",\n        \"description\": \"\"\n      }\n    },\n    {\n      \"column\": \"review_id\",\n      \"properties\": {\n        \"dtype\": \"string\",\n        \"num_unique_values\": 5,\n        \"samples\": [\n          \"RERGCQ3PLJUTJ\",\n          \"R1GHYH6N4V9BRB\",\n          \"R25VEKRF5EV836\"\n        ],\n        \"semantic_type\": \"\",\n        \"description\": \"\"\n      }\n    },\n    {\n      \"column\": \"product_id\",\n      \"properties\": {\n        \"dtype\": \"category\",\n        \"num_unique_values\": 1,\n        \"samples\": [\n          \"B0CY6S748H\"\n        ],\n        \"semantic_type\": \"\",\n        \"description\": \"\"\n      }\n    },\n    {\n      \"column\": \"title\",\n      \"properties\": {\n        \"dtype\": \"string\",\n        \"num_unique_values\": 5,\n        \"samples\": [\n          \"1.0 out of 5 stars Buyer beware WiFi connection and Customer Service horrible\"\n        ],\n        \"semantic_type\": \"\",\n        \"description\": \"\"\n      }\n    },\n    {\n      \"column\": \"author\",\n      \"properties\": {\n        \"dtype\": \"string\",\n        \"num_unique_values\": 5,\n        \"samples\": [\n          \"Road Runner\"\n        ],\n        \"semantic_type\": \"\",\n        \"description\": \"\"\n      }\n    },\n    {\n      \"column\": \"rating\",\n      \"properties\": {\n        \"dtype\": \"number\",\n        \"std\": 1,\n        \"min\": 1,\n        \"max\": 4,\n        \"num_unique_values\": 2,\n        \"samples\": [\n          1\n        ],\n        \"semantic_type\": \"\",\n        \"description\": \"\"\n      }\n    },\n    {\n      \"column\": \"content\",\n      \"properties\": {\n        \"dtype\": \"string\",\n        \"num_unique_values\": 5,\n        \"samples\": [\n          \"I bought this speaker 6 months ago, barely used it. It will not connect to WiFi despite hours of waiting for customer service to assist. After I finally got a customer service agent, reset device several times, it connected once and hasn\\u0019t connected since. Seller said go to Sonos. Sonos is impossible to get customer service agent been trying for 3 days. No one calls you back, chat line tells you contact support number but Sonos has NO support! Don\\u0019t waste your money buying this. Not worth the money. Stick with Bose!\"\n        ],\n        \"semantic_type\": \"\",\n        \"description\": \"\"\n      }\n    },\n    {\n      \"column\": \"timestamp\",\n      \"properties\": {\n        \"dtype\": \"string\",\n        \"num_unique_values\": 4,\n        \"samples\": [\n          \"Reviewed in the United States June 2, 2024\"\n        ],\n        \"semantic_type\": \"\",\n        \"description\": \"\"\n      }\n    },\n    {\n      \"column\": \"profile_id\",\n      \"properties\": {\n        \"dtype\": \"string\",\n        \"num_unique_values\": 5,\n        \"samples\": [\n          \"AEGCJLZHMRVLF55FNZBSFVM2Y5PA\"\n        ],\n        \"semantic_type\": \"\",\n        \"description\": \"\"\n      }\n    },\n    {\n      \"column\": \"is_verified\",\n      \"properties\": {\n        \"dtype\": \"number\",\n        \"std\": 0.0,\n        \"min\": 0.0,\n        \"max\": 0.0,\n        \"num_unique_values\": 1,\n        \"samples\": [\n          0.0\n        ],\n        \"semantic_type\": \"\",\n        \"description\": \"\"\n      }\n    },\n    {\n      \"column\": \"helpful_count\",\n      \"properties\": {\n        \"dtype\": \"number\",\n        \"std\": 0.0,\n        \"min\": 0.0,\n        \"max\": 0.0,\n        \"num_unique_values\": 1,\n        \"samples\": [\n          0.0\n        ],\n        \"semantic_type\": \"\",\n        \"description\": \"\"\n      }\n    },\n    {\n      \"column\": \"product_attributes\",\n      \"properties\": {\n        \"dtype\": \"category\",\n        \"num_unique_values\": 2,\n        \"samples\": [\n          \"Color: White\"\n        ],\n        \"semantic_type\": \"\",\n        \"description\": \"\"\n      }\n    },\n    {\n      \"column\": \"product_name\",\n      \"properties\": {\n        \"dtype\": \"category\",\n        \"num_unique_values\": 1,\n        \"samples\": [\n          \"Sonos Roam 2 Bluetooth Speaker\"\n        ],\n        \"semantic_type\": \"\",\n        \"description\": \"\"\n      }\n    }\n  ]\n}"
            }
          },
          "metadata": {},
          "execution_count": 9
        }
      ]
    },
    {
      "cell_type": "markdown",
      "source": [
        "## 3. Exploratory Data Analysis (EDA)\n",
        "\n",
        "### 3.1 Data Overview\n",
        "This dataset contains 1000+ data points representing the consumer reviews of different brands of bluetooth speakers. Below are the relevant statistics that provide an overview of the data set.\n",
        "\n",
        "**Central Tendency Measures**\n",
        "\n",
        "- Mean: Indicating ratings on an average of each product\n",
        "- Mode: Indicating the frequency or number of occurrences of each product in this dataset\n",
        "- MedianL: Indicating the middle value in the dataset\n",
        "\n",
        "**Dispersion Measures**\n",
        "- Standard deviation\n",
        "- Variance"
      ],
      "metadata": {
        "id": "7LQuEuuKgHJc"
      }
    },
    {
      "cell_type": "code",
      "source": [
        "import numpy as np\n",
        "import pandas as pd\n",
        "data=pd.read_csv('updated_reviews.csv')"
      ],
      "metadata": {
        "id": "HXTgzclLgLFb"
      },
      "execution_count": null,
      "outputs": []
    },
    {
      "cell_type": "code",
      "source": [
        "mean_rating= data['rating'].mean()\n",
        "mode_rating= data['rating'].mode()[0]\n",
        "median_rating= data['rating'].median()\n",
        "variance_rating= data['rating'].var()\n",
        "std_rating= data['rating'].std()\n",
        "\n",
        "print(\"mean rating:\", mean_rating)\n",
        "print(\"mode rating:\", mode_rating)\n",
        "print(\"median rating:\", median_rating)\n",
        "print(\"variance rating:\", variance_rating)\n",
        "print(\"standard deviation rating:\", std_rating)"
      ],
      "metadata": {
        "colab": {
          "base_uri": "https://localhost:8080/"
        },
        "id": "eJpjAJuxrFJJ",
        "outputId": "6885257b-0ea3-443b-e81d-e57d4fd8fa7c"
      },
      "execution_count": null,
      "outputs": [
        {
          "output_type": "stream",
          "name": "stdout",
          "text": [
            "mean rating: 4.48941798941799\n",
            "mode rating: 5\n",
            "median rating: 5.0\n",
            "variance rating: 1.0550512055366335\n",
            "standard deviation rating: 1.027156855371483\n"
          ]
        }
      ]
    },
    {
      "cell_type": "markdown",
      "source": [
        "These reprsent the average, mode, median, variance, and standard deviation computations of all the ratings in my dataset. However, I want to focus on the average ratings of each product to conduct my analysis."
      ],
      "metadata": {
        "id": "e32vlPDcrlGC"
      }
    },
    {
      "cell_type": "code",
      "source": [
        "mean_ratings= data.groupby('product_name')['rating'].mean()\n",
        "print(mean_ratings)"
      ],
      "metadata": {
        "colab": {
          "base_uri": "https://localhost:8080/"
        },
        "collapsed": true,
        "id": "rH3ijL5mqz92",
        "outputId": "5211f425-c449-4c66-d5d2-c5ab6fcb1db3"
      },
      "execution_count": null,
      "outputs": [
        {
          "output_type": "stream",
          "name": "stdout",
          "text": [
            "product_name\n",
            "Beats Pill black Bluetooth Speaker             4.456140\n",
            "Beats Pill red Bluetooth Speaker               4.509091\n",
            "Bose Soundlink black Bluetooth Speaker         4.850000\n",
            "JBL Charge 4 Bluetooth Speaker                 4.868687\n",
            "JBL Charge 5 Bluetooth Speaker                 4.880342\n",
            "JBL Flip 6 Bluetooth Speaker                   4.909091\n",
            "Marshall Emberton Bluetooth Speaker            4.752212\n",
            "Sonos Roam 2 Bluetooth Speaker                 3.555556\n",
            "Sony SRS X300 Bluetooth Speaker                4.435644\n",
            "Sony SRS XE 200 X Series Bluetooth Speaker     3.780000\n",
            "Sony SRS XE300 Bluetooth Speaker               4.000000\n",
            "Sony ULT Field 1 Wireless Bluetooth Speaker    4.666667\n",
            "Name: rating, dtype: float64\n"
          ]
        }
      ]
    },
    {
      "cell_type": "markdown",
      "source": [
        "I have been able to calculate the mean/average ratings of each product. My derivation from these results is that according to their occurrences in this dataset, JBL seems like a powerful competitor, having ratings surpassing a 4.5/5 in all 3 of their products. Beats Pill also comes close with over 4.0/5 ratings on two of their products present in this dataset."
      ],
      "metadata": {
        "id": "fdWQYxDasCkT"
      }
    },
    {
      "cell_type": "markdown",
      "source": [
        "### 3.2 Visualizations\n",
        "I made use of the following to visualize relevant information about my data:\n",
        "- Line graph\n",
        "- Bar Chart"
      ],
      "metadata": {
        "id": "sV0UqGEFgLeB"
      }
    },
    {
      "cell_type": "code",
      "source": [
        "import matplotlib.pyplot as plt\n",
        "import numpy as np\n",
        "reviews_by_rating=data.groupby('product_name').rating.mean()[:20]\n",
        "x=[' '.join(map(str, item)) for item in reviews_by_rating.index]\n",
        "y=reviews_by_rating.values.tolist()\n",
        "plt.figure(figsize=(10,5))\n",
        "plt.title('Mean rating for product')\n",
        "plt.xlabel('product name')\n",
        "plt.ylabel('mean rating')\n",
        "plt.xticks(labels=x, ticks=np.arange(len(x)), rotation=90)\n",
        "plt.plot(x,y, color='blue', marker='o')"
      ],
      "metadata": {
        "id": "YBuvgi_igOIz",
        "colab": {
          "base_uri": "https://localhost:8080/",
          "height": 986
        },
        "outputId": "2add1d1f-763e-4ea1-d3cc-270ecdc46831"
      },
      "execution_count": null,
      "outputs": [
        {
          "output_type": "execute_result",
          "data": {
            "text/plain": [
              "[<matplotlib.lines.Line2D at 0x7f8584721f60>]"
            ]
          },
          "metadata": {},
          "execution_count": 13
        },
        {
          "output_type": "display_data",
          "data": {
            "text/plain": [
              "<Figure size 1000x500 with 1 Axes>"
            ],
            "image/png": "[encoded data removed]"
          },
          "metadata": {}
        }
      ]
    },
    {
      "cell_type": "code",
      "source": [
        "reviews_by_rating=data.groupby('product_name').rating.mean()\n",
        "x=[' '.join(map(str, item)) for item in reviews_by_rating.index]\n",
        "y=reviews_by_rating.values.tolist()\n",
        "plt.figure(figsize=(10,5))\n",
        "plt.xlabel('product name')\n",
        "plt.ylabel('mean rating')\n",
        "plt.title('Mean rating for each product')\n",
        "plt.xticks(labels=x, ticks=np.arange(len(x)), rotation=90)\n",
        "plt.bar(x,y, color='red')"
      ],
      "metadata": {
        "colab": {
          "base_uri": "https://localhost:8080/",
          "height": 986
        },
        "id": "DmN1Kj4RvJqC",
        "outputId": "e0db65d6-fb81-442b-e7b5-f0661ea705e3"
      },
      "execution_count": null,
      "outputs": [
        {
          "output_type": "execute_result",
          "data": {
            "text/plain": [
              "<BarContainer object of 12 artists>"
            ]
          },
          "metadata": {},
          "execution_count": 14
        },
        {
          "output_type": "display_data",
          "data": {
            "text/plain": [
              "<Figure size 1000x500 with 1 Axes>"
            ],
            "image/png": "[encoded data removed]"
          },
          "metadata": {}
        }
      ]
    },
    {
      "cell_type": "markdown",
      "source": [
        "From these two charts, it is evident that JBL, Beats by Dre and Sony are the top performing products based on their ratings and are well accepted by the consumers. JBL remains a powerful competitor despite having 3 products in this particular dataset."
      ],
      "metadata": {
        "id": "cIlBZWbVvh-o"
      }
    },
    {
      "cell_type": "markdown",
      "source": [
        "## 4. Sentiment Analysis\n",
        "\n",
        "### 4.1 Methodology\n",
        "Sentiment Analysis Tools used:\n",
        "- Natural Language ToolKit(NLTK)\n",
        "- Textblob\n",
        "\n",
        "#### **NLTK**\n",
        "\n",
        "This is a popular library used for natural language processing. In that analysis of my dataset, NLTK will be used to determine the emotional tone or sentiment of the reviews.\n",
        "\n",
        "#### **TEXTBLOB**\n",
        "\n",
        "TextBlob on the other hand simplifies the task of NLTK by measuring the polarity and subjectivity of the text."
      ],
      "metadata": {
        "id": "-iMv0E-wgRcc"
      }
    },
    {
      "cell_type": "code",
      "source": [
        "import nltk\n",
        "from nltk.sentiment.vader import SentimentIntensityAnalyzer"
      ],
      "metadata": {
        "id": "3CdtKnwPgThE"
      },
      "execution_count": null,
      "outputs": []
    },
    {
      "cell_type": "code",
      "source": [
        "nltk.download('vader_lexicon')"
      ],
      "metadata": {
        "collapsed": true,
        "colab": {
          "base_uri": "https://localhost:8080/"
        },
        "id": "I2Wzpwl20l4E",
        "outputId": "cf517e98-4b53-4de5-c580-984571ecef86"
      },
      "execution_count": null,
      "outputs": [
        {
          "output_type": "stream",
          "name": "stderr",
          "text": [
            "[nltk_data] Downloading package vader_lexicon to /root/nltk_data...\n"
          ]
        },
        {
          "output_type": "execute_result",
          "data": {
            "text/plain": [
              "True"
            ]
          },
          "metadata": {},
          "execution_count": 16
        }
      ]
    },
    {
      "cell_type": "code",
      "source": [
        "sia=SentimentIntensityAnalyzer()"
      ],
      "metadata": {
        "id": "kYDBAw770uNF"
      },
      "execution_count": null,
      "outputs": []
    },
    {
      "cell_type": "markdown",
      "source": [
        "### 4.2 Results\n",
        "\n",
        "Results from my analysis below show that Beats has a positive sentiment score, indicating that most consumers are satisfied with the performance, features and quality of the product.\n",
        "\n",
        "However, there are a few negative reviews and we cannot turn a blind eye to these ones."
      ],
      "metadata": {
        "id": "0DBNIEkXgkQl"
      }
    },
    {
      "cell_type": "code",
      "source": [
        "def analyze_sentiments(text):\n",
        "  sentiment= sia.polarity_scores(text)\n",
        "  return sentiment"
      ],
      "metadata": {
        "id": "brI3LhEt424E"
      },
      "execution_count": null,
      "outputs": []
    },
    {
      "cell_type": "code",
      "source": [
        "data['sentiment_scores']=data['content'].apply(analyze_sentiments)\n",
        "data['neutral_scores']=data['sentiment_scores'].apply(lambda x: x['neu'])\n",
        "data['positive_scores']=data['sentiment_scores'].apply(lambda x: x['pos'])\n",
        "data['negative_scores']=data['sentiment_scores'].apply(lambda x: x['neg'])\n",
        "data['compound_scores']=data['sentiment_scores'].apply(lambda x: x['compound'])"
      ],
      "metadata": {
        "id": "kWluV2ye_JYV"
      },
      "execution_count": null,
      "outputs": []
    },
    {
      "cell_type": "code",
      "source": [
        "print(data.head())"
      ],
      "metadata": {
        "colab": {
          "base_uri": "https://localhost:8080/"
        },
        "collapsed": true,
        "id": "r5lah9Ja-paJ",
        "outputId": "cf0a687b-a46e-4fc6-d7b2-629ed7e95df8"
      },
      "execution_count": null,
      "outputs": [
        {
          "output_type": "stream",
          "name": "stdout",
          "text": [
            "   Unnamed: 0       review_id  product_id  \\\n",
            "0        1000  R3ED0R4VCG7DP7  B0CXL4FQBK   \n",
            "1        1001   R7FS5ZX9N85YV  B0CXL4FQBK   \n",
            "2        1002  R3MI1MH02YEDHK  B0CXL4FQBK   \n",
            "3        1003  R26O4F9FKNIYVG  B0CXL4FQBK   \n",
            "4        1004  R1SSV73W8JIH5E  B0CXL4FQBK   \n",
            "\n",
            "                                               title        author  rating  \\\n",
            "0   5.0 out of 5 stars Amazing Speaker for All Needs         Colin       5   \n",
            "1  5.0 out of 5 stars Concert Ready! Nice For the...    Melly Mel3       5   \n",
            "2  5.0 out of 5 stars Things I wish I knew before...           Pat       5   \n",
            "3                   4.0 out of 5 stars Easy to pair.      Joseph C       4   \n",
            "4  5.0 out of 5 stars Didn't expect the sound qua...  Mike Freeman       5   \n",
            "\n",
            "                                             content  \\\n",
            "0  I was in need of a new versatile portable spea...   \n",
            "1  Color is as pictured. So pretty and vibrant.Ch...   \n",
            "2  The media could not be loaded. So, yes 5 stars...   \n",
            "3  Not a Bose flex link. But good for the price. ...   \n",
            "4  After trying out Sony Wireless Speaker, I have...   \n",
            "\n",
            "                                      timestamp                    profile_id  \\\n",
            "0   Reviewed in the United States June 24, 2024  AHWLZPJ4HLRGSDCGXHCEWVVOGX4Q   \n",
            "1  Reviewed in the United States August 3, 2024  AEQS3DLWRAFDJBBHMWTKH46UBBDQ   \n",
            "2    Reviewed in the United States May 20, 2024  AGCVXRAC7KRNWUCTJSFA2D44CDNA   \n",
            "3    Reviewed in the United States July 6, 2024  AEWWQRYIV3XHR6HRM6YALMVX6DPQ   \n",
            "4    Reviewed in the United States May 10, 2024  AFKMNV7MVRWKIXFNFEJOIYWBOUSA   \n",
            "\n",
            "   is_verified  helpful_count  product_attributes  \\\n",
            "0          1.0           17.0    Color: Off White   \n",
            "1          1.0            0.0       Color: Orange   \n",
            "2          1.0           51.0  Color: Forest Gray   \n",
            "3          1.0            2.0        Color: Black   \n",
            "4          1.0           13.0    Color: Off White   \n",
            "\n",
            "                                  product_name  sentiment_score  \\\n",
            "0  Sony ULT Field 1 Wireless Bluetooth Speaker           0.9995   \n",
            "1  Sony ULT Field 1 Wireless Bluetooth Speaker           0.9515   \n",
            "2  Sony ULT Field 1 Wireless Bluetooth Speaker           0.9991   \n",
            "3  Sony ULT Field 1 Wireless Bluetooth Speaker           0.7572   \n",
            "4  Sony ULT Field 1 Wireless Bluetooth Speaker           0.8047   \n",
            "\n",
            "                                    sentiment_scores  neutral_scores  \\\n",
            "0  {'neg': 0.01, 'neu': 0.814, 'pos': 0.176, 'com...           0.814   \n",
            "1  {'neg': 0.056, 'neu': 0.616, 'pos': 0.328, 'co...           0.616   \n",
            "2  {'neg': 0.033, 'neu': 0.764, 'pos': 0.203, 'co...           0.764   \n",
            "3  {'neg': 0.048, 'neu': 0.784, 'pos': 0.168, 'co...           0.784   \n",
            "4  {'neg': 0.005, 'neu': 0.945, 'pos': 0.05, 'com...           0.945   \n",
            "\n",
            "   positive_scores  negative_scores  compound_scores  \n",
            "0            0.176            0.010           0.9995  \n",
            "1            0.328            0.056           0.9515  \n",
            "2            0.203            0.033           0.9991  \n",
            "3            0.168            0.048           0.7572  \n",
            "4            0.050            0.005           0.8047  \n"
          ]
        }
      ]
    },
    {
      "cell_type": "code",
      "source": [
        "product_name = \"Beats Pill red Bluetooth Speaker\"\n",
        "product_data = data[data['product_name'] == product_name]\n",
        "\n",
        "compound_scores = product_data['compound_scores']\n",
        "\n",
        "print(compound_scores)\n",
        "print(f\"Compound scores for {product_name}:\", compound_scores)"
      ],
      "metadata": {
        "colab": {
          "base_uri": "https://localhost:8080/"
        },
        "collapsed": true,
        "id": "ZuOHotYa6ldZ",
        "outputId": "6e323cb8-c2f4-4ca3-aa38-99a5ae70433a"
      },
      "execution_count": null,
      "outputs": [
        {
          "output_type": "stream",
          "name": "stdout",
          "text": [
            "645    0.9948\n",
            "646    0.9851\n",
            "647    0.9898\n",
            "648    0.9681\n",
            "649    0.9423\n",
            "650    0.9524\n",
            "651    0.8620\n",
            "652    0.5719\n",
            "653    0.9847\n",
            "654    0.8290\n",
            "655    0.8514\n",
            "656    0.8687\n",
            "657    0.9371\n",
            "658    0.7506\n",
            "659    0.6249\n",
            "660    0.8999\n",
            "661    0.8588\n",
            "662    0.6249\n",
            "663    0.8834\n",
            "664    0.6249\n",
            "665    0.4404\n",
            "666    0.0000\n",
            "667    0.7351\n",
            "668    0.2748\n",
            "669    0.7501\n",
            "670    0.2263\n",
            "671    0.5859\n",
            "672    0.3749\n",
            "673    0.1280\n",
            "674    0.0000\n",
            "675    0.0000\n",
            "676   -0.9798\n",
            "677    0.9812\n",
            "678    0.9991\n",
            "679    0.9897\n",
            "680    0.9948\n",
            "681    0.9933\n",
            "682    0.9781\n",
            "683    0.8513\n",
            "684    0.9388\n",
            "685    0.8855\n",
            "686    0.9307\n",
            "687    0.9885\n",
            "688    0.9792\n",
            "689    0.9325\n",
            "690    0.9465\n",
            "691    0.9731\n",
            "692    0.9851\n",
            "693    0.9748\n",
            "694   -0.3840\n",
            "695    0.0000\n",
            "696    0.9381\n",
            "697    0.9534\n",
            "698   -0.1012\n",
            "699    0.8299\n",
            "Name: compound_scores, dtype: float64\n",
            "Compound scores for Beats Pill red Bluetooth Speaker: 645    0.9948\n",
            "646    0.9851\n",
            "647    0.9898\n",
            "648    0.9681\n",
            "649    0.9423\n",
            "650    0.9524\n",
            "651    0.8620\n",
            "652    0.5719\n",
            "653    0.9847\n",
            "654    0.8290\n",
            "655    0.8514\n",
            "656    0.8687\n",
            "657    0.9371\n",
            "658    0.7506\n",
            "659    0.6249\n",
            "660    0.8999\n",
            "661    0.8588\n",
            "662    0.6249\n",
            "663    0.8834\n",
            "664    0.6249\n",
            "665    0.4404\n",
            "666    0.0000\n",
            "667    0.7351\n",
            "668    0.2748\n",
            "669    0.7501\n",
            "670    0.2263\n",
            "671    0.5859\n",
            "672    0.3749\n",
            "673    0.1280\n",
            "674    0.0000\n",
            "675    0.0000\n",
            "676   -0.9798\n",
            "677    0.9812\n",
            "678    0.9991\n",
            "679    0.9897\n",
            "680    0.9948\n",
            "681    0.9933\n",
            "682    0.9781\n",
            "683    0.8513\n",
            "684    0.9388\n",
            "685    0.8855\n",
            "686    0.9307\n",
            "687    0.9885\n",
            "688    0.9792\n",
            "689    0.9325\n",
            "690    0.9465\n",
            "691    0.9731\n",
            "692    0.9851\n",
            "693    0.9748\n",
            "694   -0.3840\n",
            "695    0.0000\n",
            "696    0.9381\n",
            "697    0.9534\n",
            "698   -0.1012\n",
            "699    0.8299\n",
            "Name: compound_scores, dtype: float64\n"
          ]
        }
      ]
    },
    {
      "cell_type": "code",
      "source": [
        "product_name = \"Beats Pill red Bluetooth Speaker\"\n",
        "product_data = data[data['product_name'] == product_name]\n",
        "\n",
        "compound_scores = product_data['compound_scores']\n",
        "plt.hist(data['compound_scores'], bins=10, edgecolor='black')\n",
        "plt.xlabel('Sentiment Scores')\n",
        "plt.ylabel('Frequency')\n",
        "plt.title('Distribution of Sentiment Scores for {Beats Pill red}')\n",
        "plt.show()"
      ],
      "metadata": {
        "colab": {
          "base_uri": "https://localhost:8080/",
          "height": 472
        },
        "id": "EQW_3PK981Xy",
        "outputId": "8aec0577-3f3d-49f8-8c9a-dbde7ee94d8d"
      },
      "execution_count": null,
      "outputs": [
        {
          "output_type": "display_data",
          "data": {
            "text/plain": [
              "<Figure size 640x480 with 1 Axes>"
            ],
            "image/png": "[encoded data removed]"
          },
          "metadata": {}
        }
      ]
    },
    {
      "cell_type": "code",
      "source": [
        "product_name = \"Beats Pill red Bluetooth Speaker\"\n",
        "product_data = data[data['product_name'] == product_name]\n",
        "average_sentiment = product_data['sentiment_score'].mean()\n",
        "print(f\"Average Sentiment Score for {product_name}: {average_sentiment}\")"
      ],
      "metadata": {
        "colab": {
          "base_uri": "https://localhost:8080/"
        },
        "id": "ofDTYqnmANSS",
        "outputId": "3e9f78b5-0886-4c53-e8c0-4afc155d396b"
      },
      "execution_count": null,
      "outputs": [
        {
          "output_type": "stream",
          "name": "stdout",
          "text": [
            "Average Sentiment Score for Beats Pill red Bluetooth Speaker: 0.6927054545454546\n"
          ]
        }
      ]
    },
    {
      "cell_type": "code",
      "source": [
        "if average_sentiment >= 0.05:\n",
        "    sentiment_category = \"Positive\"\n",
        "elif average_sentiment <= -0.05:\n",
        "    sentiment_category = \"Negative\"\n",
        "else:\n",
        "    sentiment_category = \"Neutral\"\n",
        "\n",
        "print(f\"Sentiment Category for {product_name}: {sentiment_category}\")"
      ],
      "metadata": {
        "colab": {
          "base_uri": "https://localhost:8080/"
        },
        "id": "9zxCH-NbAZgn",
        "outputId": "4f7f200d-60f2-4c55-d87d-48b5a0633385"
      },
      "execution_count": null,
      "outputs": [
        {
          "output_type": "stream",
          "name": "stdout",
          "text": [
            "Sentiment Category for Beats Pill red Bluetooth Speaker: Positive\n"
          ]
        }
      ]
    },
    {
      "cell_type": "markdown",
      "source": [
        "## 5. AI-Generated Insights\n",
        "\n",
        "### 5.1 Using Gemini AI\n",
        "Gemini AI uses natural language processing and machine learning to analyze large amounts of text data and in this context, Gemini analyzed consumer reviews in my dataset and helped identify strengths and weaknesses of Beats by Dre products.\n",
        "\n",
        "API keys are first of all generated to enable access and authenticate requests to the Gemini API.\n",
        "These are a few of the codes I used tp generate insights and recommendations using Gemini AI."
      ],
      "metadata": {
        "id": "DNwZT81EgnZx"
      }
    },
    {
      "cell_type": "code",
      "source": [
        "import pandas as pd\n",
        "import os\n",
        "import google.generativeai as genai"
      ],
      "metadata": {
        "id": "fcettvzWEwrJ"
      },
      "execution_count": null,
      "outputs": []
    },
    {
      "cell_type": "code",
      "source": [
        "os.environ[\"GEMINI_API_KEY\"] = \"APIKEY\"\n",
        "data= pd.read_csv('sentiment_analysis.csv')\n",
        "\n",
        "def analyze_reviews(reviews,api_key):\n",
        "  genai.configure(api_key=os.environ['GEMINI_API_KEY'])\n",
        "\n",
        "  model= genai.GenerativeModel(\n",
        "    model_name='gemini-1.5-flash',\n",
        "    generation_config={\n",
        "      'temperature':1,\n",
        "      'top_p':0.95,\n",
        "      'top_k':64,\n",
        "      'max_output_tokens':8192,\n",
        "      'response_mime_type':'text/plain',\n",
        "    },\n",
        "  )\n",
        "  chat_session = model.start_chat(\n",
        "    history=[]\n",
        "  )\n",
        "prompt='Give a brief suggestion on what Beats can do to ensure consumer satisfaction and remain competitive in the market:\\n\\n'+'\\n\\n'.join(data['content'])\n",
        "response = chat_session.send_message(prompt)\n",
        "\n",
        "print(response.text)"
      ],
      "metadata": {
        "id": "VdkN4YkPEzAR"
      },
      "execution_count": null,
      "outputs": []
    },
    {
      "cell_type": "code",
      "source": [
        "prompt='Analyze the reviews in this data set and provide recommendations for Beats Pill Bluetooth Speaker:\\n\\n'+'\\n\\n'.join(data['content'])\n",
        "response = chat_session.send_message(prompt)\n",
        "print(response.text)"
      ],
      "metadata": {
        "id": "aqyyugljFT_0"
      },
      "execution_count": null,
      "outputs": []
    },
    {
      "cell_type": "markdown",
      "source": [
        "### 5.2 Key Insights\n",
        "Using the Gemini AI, I was able to use the following prompts to generate insights.\n",
        "\n",
        "1. Analyze the reviews and provide recommendations for Beats Pill.\n",
        "2. Compare Beats Pill with other products and suggest recommendations for Beats\n",
        "3. Give recommendations for Beats to enhance consumer satisfaction and remain competitive in the market.\n",
        "\n",
        "---\n",
        "Gemini AI highlighted that Beats Pill according to consumer reviews and ratings is quite an impressive product. However, it drew attention to the \"bass-heavy sound\" feature of the product, which mwy not be suitable for those who prefer a balanced audio profile. Most of Beats' negative reviews and ratings came from this aspect.\n",
        "\n",
        "AI, also highlighted that JBL and Sony could be powerful competition, considering how well consumers have accepted their products. These products have advanced EQ customization which Beats Pill is lacking."
      ],
      "metadata": {
        "id": "Ytb0BYEqgpfB"
      }
    },
    {
      "cell_type": "markdown",
      "source": [
        "## 6. Comparative Analysis\n",
        "\n",
        "### 6.1 Competitor Overview\n",
        "According to my analysis, JBL is a strong competitor. A lot of reviews in this dataset are in favor of JBL. JBL provides a better and balanced audio profile compared to Beats. Howvwe, Beats can boast of longer lasting battery, despite its portability and seamless pairing with both android and ios devices."
      ],
      "metadata": {
        "id": "GERtyCkwgxYw"
      }
    },
    {
      "cell_type": "markdown",
      "source": [
        "### 6.2 SWOT Analysis\n",
        "STRENGTHS:\n",
        "\n",
        "- Powerful bass\n",
        "- Loud volume and ability to fill a room or outdoor space with sound\n",
        "- Portability\n",
        "- Water resistant\n",
        "\n",
        "WEAKNESSES:\n",
        "\n",
        "- Slightly bass-heavy sound. Might be an issue for consumers who like balanced sound.\n",
        "- Limited control\n",
        "\n",
        "OPPORTUNITIES:\n",
        "\n",
        "- Considering the rise of smart homes, Beats could make speakers that seamlessly integrate with home automation systems.\n",
        "- Address the threat of piracy and fake products.\n",
        "- Expand online presence\n"
      ],
      "metadata": {
        "id": "LEwiDwEZg4zK"
      }
    },
    {
      "cell_type": "markdown",
      "source": [
        "## 7. Conclusion\n",
        "In conclusion, Beats is well appreciated by the consumers. Beats Pill posesses unique features that make then stand out in the market. We should continue to make consumer satisfaction our priority."
      ],
      "metadata": {
        "id": "6LrUwAGHhIsP"
      }
    },
    {
      "cell_type": "markdown",
      "source": [
        "## 8. References and Tools\n",
        "- Amazon E-commerce website (www.amazon.com)\n",
        "- Oxylabs API\n",
        "- Python\n",
        "- Beats by Dre website\n"
      ],
      "metadata": {
        "id": "olikrWxke3lK"
      }
    }
  ]
}